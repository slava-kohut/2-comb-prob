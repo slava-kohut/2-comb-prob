{
 "cells": [
  {
   "cell_type": "code",
   "execution_count": 8,
   "metadata": {},
   "outputs": [
    {
     "name": "stdout",
     "output_type": "stream",
     "text": [
      "(0, 0, 0, 0)\n",
      "(0, 0, 0, 1)\n",
      "(0, 0, 0, 2)\n",
      "(0, 0, 1, 1)\n",
      "(0, 0, 1, 2)\n",
      "(0, 0, 2, 2)\n",
      "(0, 1, 1, 1)\n",
      "(0, 1, 1, 2)\n",
      "(0, 1, 2, 2)\n",
      "(0, 2, 2, 2)\n",
      "(1, 1, 1, 1)\n",
      "(1, 1, 1, 2)\n",
      "(1, 1, 2, 2)\n",
      "(1, 2, 2, 2)\n",
      "(2, 2, 2, 2)\n"
     ]
    }
   ],
   "source": [
    "from itertools import combinations_with_replacement\n",
    "for i in combinations_with_replacement(range(3),4):\n",
    "    print(i)"
   ]
  },
  {
   "cell_type": "code",
   "execution_count": 3,
   "metadata": {},
   "outputs": [],
   "source": [
    "?combinations_with_replacement"
   ]
  },
  {
   "cell_type": "code",
   "execution_count": 13,
   "metadata": {},
   "outputs": [],
   "source": [
    "from math import factorial"
   ]
  },
  {
   "cell_type": "code",
   "execution_count": 32,
   "metadata": {},
   "outputs": [
    {
     "data": {
      "text/plain": [
       "286.0"
      ]
     },
     "execution_count": 32,
     "metadata": {},
     "output_type": "execute_result"
    }
   ],
   "source": [
    "factorial(13)/(factorial(10)*factorial(3))"
   ]
  },
  {
   "cell_type": "code",
   "execution_count": 5,
   "metadata": {},
   "outputs": [
    {
     "name": "stdout",
     "output_type": "stream",
     "text": [
      "3024\n"
     ]
    }
   ],
   "source": [
    "from itertools import permutations\n",
    "b = 0\n",
    "for a in permutations(\"123456789\", 4):\n",
    "    b = b + 1\n",
    "print(b)"
   ]
  },
  {
   "cell_type": "code",
   "execution_count": 36,
   "metadata": {},
   "outputs": [
    {
     "data": {
      "text/plain": [
       "3024.0"
      ]
     },
     "execution_count": 36,
     "metadata": {},
     "output_type": "execute_result"
    }
   ],
   "source": [
    "factorial(9)/factorial(5)"
   ]
  },
  {
   "cell_type": "code",
   "execution_count": 12,
   "metadata": {},
   "outputs": [
    {
     "data": {
      "text/plain": [
       "3003.0"
      ]
     },
     "execution_count": 12,
     "metadata": {},
     "output_type": "execute_result"
    }
   ],
   "source": [
    "factorial(8+6)/(factorial(8)*factorial(6))"
   ]
  },
  {
   "cell_type": "code",
   "execution_count": 37,
   "metadata": {},
   "outputs": [
    {
     "name": "stdout",
     "output_type": "stream",
     "text": [
      "123\n",
      "124\n",
      "125\n",
      "126\n",
      "127\n",
      "128\n",
      "129\n",
      "134\n",
      "135\n",
      "136\n",
      "137\n",
      "138\n",
      "139\n",
      "145\n",
      "146\n",
      "147\n",
      "148\n",
      "149\n",
      "156\n",
      "157\n",
      "158\n",
      "159\n",
      "167\n",
      "168\n",
      "169\n",
      "178\n",
      "179\n",
      "189\n",
      "234\n",
      "235\n",
      "236\n",
      "237\n",
      "238\n",
      "239\n",
      "245\n",
      "246\n",
      "247\n",
      "248\n",
      "249\n",
      "256\n",
      "257\n",
      "258\n",
      "259\n",
      "267\n",
      "268\n",
      "269\n",
      "278\n",
      "279\n",
      "289\n",
      "345\n",
      "346\n",
      "347\n",
      "348\n",
      "349\n",
      "356\n",
      "357\n",
      "358\n",
      "359\n",
      "367\n",
      "368\n",
      "369\n",
      "378\n",
      "379\n",
      "389\n",
      "456\n",
      "457\n",
      "458\n",
      "459\n",
      "467\n",
      "468\n",
      "469\n",
      "478\n",
      "479\n",
      "489\n",
      "567\n",
      "568\n",
      "569\n",
      "578\n",
      "579\n",
      "589\n",
      "678\n",
      "679\n",
      "689\n",
      "789\n",
      "1234\n",
      "1235\n",
      "1236\n",
      "1237\n",
      "1238\n",
      "1239\n",
      "1245\n",
      "1246\n",
      "1247\n",
      "1248\n",
      "1249\n",
      "1256\n",
      "1257\n",
      "1258\n",
      "1259\n",
      "1267\n",
      "1268\n",
      "1269\n",
      "1278\n",
      "1279\n",
      "1289\n",
      "1345\n",
      "1346\n",
      "1347\n",
      "1348\n",
      "1349\n",
      "1356\n",
      "1357\n",
      "1358\n",
      "1359\n",
      "1367\n",
      "1368\n",
      "1369\n",
      "1378\n",
      "1379\n",
      "1389\n",
      "1456\n",
      "1457\n",
      "1458\n",
      "1459\n",
      "1467\n",
      "1468\n",
      "1469\n",
      "1478\n",
      "1479\n",
      "1489\n",
      "1567\n",
      "1568\n",
      "1569\n",
      "1578\n",
      "1579\n",
      "1589\n",
      "1678\n",
      "1679\n",
      "1689\n",
      "1789\n",
      "2345\n",
      "2346\n",
      "2347\n",
      "2348\n",
      "2349\n",
      "2356\n",
      "2357\n",
      "2358\n",
      "2359\n",
      "2367\n",
      "2368\n",
      "2369\n",
      "2378\n",
      "2379\n",
      "2389\n",
      "2456\n",
      "2457\n",
      "2458\n",
      "2459\n",
      "2467\n",
      "2468\n",
      "2469\n",
      "2478\n",
      "2479\n",
      "2489\n",
      "2567\n",
      "2568\n",
      "2569\n",
      "2578\n",
      "2579\n",
      "2589\n",
      "2678\n",
      "2679\n",
      "2689\n",
      "2789\n",
      "3456\n",
      "3457\n",
      "3458\n",
      "3459\n",
      "3467\n",
      "3468\n",
      "3469\n",
      "3478\n",
      "3479\n",
      "3489\n",
      "3567\n",
      "3568\n",
      "3569\n",
      "3578\n",
      "3579\n",
      "3589\n",
      "3678\n",
      "3679\n",
      "3689\n",
      "3789\n",
      "4567\n",
      "4568\n",
      "4569\n",
      "4578\n",
      "4579\n",
      "4589\n",
      "4678\n",
      "4679\n",
      "4689\n",
      "4789\n",
      "5678\n",
      "5679\n",
      "5689\n",
      "5789\n",
      "6789\n",
      "210\n"
     ]
    }
   ],
   "source": [
    "c = 0\n",
    "\n",
    "for i in range(1,10000):\n",
    "    k = floor(i/1000)\n",
    "    m = floor(i/100) - k*10\n",
    "    n = floor(i/10) - k*100 - m*10\n",
    "    l = i - k*1000 - m*100 - n*10\n",
    "    if k < m and m < n and n < l:\n",
    "        c = c + 1\n",
    "        print(i)\n",
    "print(c)        "
   ]
  },
  {
   "cell_type": "code",
   "execution_count": 26,
   "metadata": {},
   "outputs": [
    {
     "data": {
      "text/plain": [
       "220.0"
      ]
     },
     "execution_count": 26,
     "metadata": {},
     "output_type": "execute_result"
    }
   ],
   "source": [
    "factorial(9+4-1)/(factorial(9)*factorial(3))"
   ]
  },
  {
   "cell_type": "code",
   "execution_count": 22,
   "metadata": {},
   "outputs": [
    {
     "data": {
      "text/plain": [
       "999"
      ]
     },
     "execution_count": 22,
     "metadata": {},
     "output_type": "execute_result"
    }
   ],
   "source": [
    "floor(9999/10)"
   ]
  },
  {
   "cell_type": "code",
   "execution_count": 42,
   "metadata": {},
   "outputs": [],
   "source": [
    "def choose(n,k):\n",
    "    return factorial(n)/(factorial(k)*factorial(n-k))"
   ]
  },
  {
   "cell_type": "code",
   "execution_count": 45,
   "metadata": {},
   "outputs": [
    {
     "data": {
      "text/plain": [
       "10395.0"
      ]
     },
     "execution_count": 45,
     "metadata": {},
     "output_type": "execute_result"
    }
   ],
   "source": [
    "(choose(12,2)*choose(10,2)*choose(8,2)*choose(6,2)*choose(4,2))/factorial(6)"
   ]
  }
 ],
 "metadata": {
  "kernelspec": {
   "display_name": "Python 3",
   "language": "python",
   "name": "python3"
  },
  "language_info": {
   "codemirror_mode": {
    "name": "ipython",
    "version": 3
   },
   "file_extension": ".py",
   "mimetype": "text/x-python",
   "name": "python",
   "nbconvert_exporter": "python",
   "pygments_lexer": "ipython3",
   "version": "3.7.3"
  }
 },
 "nbformat": 4,
 "nbformat_minor": 2
}
